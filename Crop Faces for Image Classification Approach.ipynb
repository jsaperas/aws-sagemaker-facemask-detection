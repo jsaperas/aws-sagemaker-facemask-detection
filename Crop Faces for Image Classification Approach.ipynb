{
 "cells": [
  {
   "cell_type": "code",
   "execution_count": 27,
   "id": "900413b9",
   "metadata": {},
   "outputs": [
    {
     "name": "stdout",
     "output_type": "stream",
     "text": [
      "The autoreload extension is already loaded. To reload it, use:\n",
      "  %reload_ext autoreload\n"
     ]
    }
   ],
   "source": [
    "%load_ext autoreload\n",
    "%autoreload 2\n",
    "\n",
    "import json\n",
    "import io\n",
    "import random\n",
    "import boto3\n",
    "\n",
    "import xml.etree.ElementTree as ET\n",
    "\n",
    "from annotation_helpers import get_annotations"
   ]
  },
  {
   "cell_type": "code",
   "execution_count": 28,
   "id": "96c7cf5a",
   "metadata": {},
   "outputs": [],
   "source": [
    "bucket = 'sagemaker-facemasks-object-detection'\n",
    "prefix = 'annotations/'\n",
    "\n",
    "s3 = boto3.client('s3')\n",
    "paginator = s3.get_paginator('list_objects')"
   ]
  },
  {
   "cell_type": "code",
   "execution_count": 29,
   "id": "afb36da8",
   "metadata": {},
   "outputs": [],
   "source": [
    "annotations = []\n",
    "for page in paginator.paginate(Bucket=bucket, Prefix='annotations/'):\n",
    "    for c in page['Contents']:\n",
    "        key = c['Key']\n",
    "        if '.xml' in key:\n",
    "            obj = s3.get_object(Bucket=bucket, Key=key)\n",
    "            xml = ET.fromstring(obj['Body'].read())\n",
    "            annot = get_annotations(xml)\n",
    "            annot['source-ref'] = f's3://{bucket}/images/{annot[\"source-ref\"]}'\n",
    "            annotations.append(annot)"
   ]
  },
  {
   "cell_type": "code",
   "execution_count": 31,
   "id": "eef3d2c4",
   "metadata": {},
   "outputs": [],
   "source": [
    "from PIL import Image\n",
    "from io import BytesIO\n",
    "\n",
    "def load_image(bucket, key):\n",
    "    file_byte_string = s3.get_object(Bucket=bucket, Key=key)['Body'].read()\n",
    "    return Image.open(BytesIO(file_byte_string))"
   ]
  },
  {
   "cell_type": "code",
   "execution_count": 42,
   "id": "543bb3ff",
   "metadata": {},
   "outputs": [],
   "source": [
    "bucket = 'sagemaker-facemasks-object-detection'\n",
    "key = 'images/maksssksksss0.png'\n",
    "\n",
    "img = load_image(bucket, key)\n",
    "\n",
    "faces = []\n",
    "for annot in annotations[0]['bounding-box']['annotations']:\n",
    "    left = annot['left']\n",
    "    top = annot['top']\n",
    "    right = left + annot['width']\n",
    "    bottom = top + annot['height']\n",
    "    cls = annot['class_id']\n",
    "    faces.append(img.crop((left, top, right, bottom)))"
   ]
  }
 ],
 "metadata": {
  "kernelspec": {
   "display_name": "Python 3 (ipykernel)",
   "language": "python",
   "name": "python3"
  },
  "language_info": {
   "codemirror_mode": {
    "name": "ipython",
    "version": 3
   },
   "file_extension": ".py",
   "mimetype": "text/x-python",
   "name": "python",
   "nbconvert_exporter": "python",
   "pygments_lexer": "ipython3",
   "version": "3.8.12"
  }
 },
 "nbformat": 4,
 "nbformat_minor": 5
}
